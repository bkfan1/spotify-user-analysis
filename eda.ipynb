{
 "cells": [
  {
   "cell_type": "code",
   "execution_count": null,
   "metadata": {},
   "outputs": [],
   "source": [
    "import sqlite3\n",
    "import pandas as pd\n",
    "import matplotlib.pyplot as plt\n",
    "import seaborn as sns\n",
    "\n",
    "from config import DATABASE_URL"
   ]
  },
  {
   "cell_type": "code",
   "execution_count": null,
   "metadata": {},
   "outputs": [],
   "source": [
    "# Connecting to database\n",
    "conn = sqlite3.connect(DATABASE_URL)"
   ]
  },
  {
   "cell_type": "code",
   "execution_count": null,
   "metadata": {},
   "outputs": [],
   "source": [
    "# Querying all the rows from \"user_top_artists\" table:\n",
    "query = \"SELECT * FROM user_top_artists;\"\n",
    "user_top_artists_df = pd.read_sql_query(query, conn)\n",
    "\n",
    "user_top_artists_df.head()"
   ]
  },
  {
   "cell_type": "code",
   "execution_count": null,
   "metadata": {},
   "outputs": [],
   "source": [
    "# Sorting artists by their popularity (in descending order)\n",
    "user_top_artists_df.sort_values(by=\"popularity\", ascending=False, inplace=True)"
   ]
  },
  {
   "cell_type": "code",
   "execution_count": null,
   "metadata": {},
   "outputs": [],
   "source": [
    "# Plotting the user top artists data using a barplot\n",
    "sns.barplot(data=user_top_artists_df, x=user_top_artists_df[\"popularity\"], y=user_top_artists_df[\"name\"], palette=\"Greens_d\").set(title=\"User top artists on Spotify ranked by their popularity\")"
   ]
  },
  {
   "cell_type": "code",
   "execution_count": null,
   "metadata": {},
   "outputs": [],
   "source": [
    "# Querying all the rows form \"user_top_tracks\" table\n",
    "query = \"\"\"\n",
    "SELECT *\n",
    "FROM user_top_tracks;\n",
    "\"\"\"\n",
    "\n",
    "user_top_tracks_df = pd.read_sql_query(query, conn)\n",
    "\n",
    "user_top_tracks_df.head()"
   ]
  },
  {
   "cell_type": "code",
   "execution_count": null,
   "metadata": {},
   "outputs": [],
   "source": [
    "# Getting descriptive statistics from user top tracks\n",
    "user_top_tracks_df.describe()"
   ]
  },
  {
   "cell_type": "code",
   "execution_count": null,
   "metadata": {},
   "outputs": [],
   "source": [
    "# Sorting tracks by their popularity\n",
    "user_top_tracks_df.sort_values(by=\"popularity\", ascending=False, inplace=True)"
   ]
  },
  {
   "cell_type": "code",
   "execution_count": null,
   "metadata": {},
   "outputs": [],
   "source": [
    "# Plotting user top tracks\n",
    "sns.barplot(data=user_top_tracks_df, x=user_top_tracks_df[\"popularity\"], y=user_top_tracks_df[\"name\"], palette=\"Greens_d\").set(title=\"User top tracks on Spotify ranked by their popularity\")"
   ]
  },
  {
   "cell_type": "code",
   "execution_count": null,
   "metadata": {},
   "outputs": [],
   "source": [
    "track_tempos_df = user_top_tracks_df[[\"name\", \"tempo\"]]\n",
    "\n",
    "sns.histplot(data=track_tempos_df, bins=\"auto\", palette=\"Greens_d\").set(title=\"Distribution of user top tracks tempos\")"
   ]
  },
  {
   "cell_type": "code",
   "execution_count": null,
   "metadata": {},
   "outputs": [],
   "source": [
    "track_keys = user_top_tracks_df[\"key\"].value_counts()\n",
    "\n",
    "keys = track_keys.keys()\n",
    "\n",
    "plt.pie(track_keys, labels=keys, autopct='%.0f%%')\n",
    "plt.title(\"Distribution of keys from user top tracks\")"
   ]
  }
 ],
 "metadata": {
  "kernelspec": {
   "display_name": "venv",
   "language": "python",
   "name": "python3"
  },
  "language_info": {
   "codemirror_mode": {
    "name": "ipython",
    "version": 3
   },
   "file_extension": ".py",
   "mimetype": "text/x-python",
   "name": "python",
   "nbconvert_exporter": "python",
   "pygments_lexer": "ipython3",
   "version": "3.11.3"
  },
  "orig_nbformat": 4
 },
 "nbformat": 4,
 "nbformat_minor": 2
}
